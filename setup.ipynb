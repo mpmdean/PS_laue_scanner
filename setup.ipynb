{
 "cells": [
  {
   "cell_type": "code",
   "execution_count": null,
   "id": "b6748db9-d673-4399-84b3-1c6f08f09f3c",
   "metadata": {},
   "outputs": [],
   "source": [
    "import numpy as np\n",
    "from pathlib import Path\n",
    "import os\n",
    "folder = Path(os.getcwd())\n"
   ]
  },
  {
   "cell_type": "code",
   "execution_count": null,
   "id": "3b97ec74-aba6-4b10-8c8c-f4419617ed17",
   "metadata": {},
   "outputs": [],
   "source": [
    "exposure = 4 # in seconds\n",
    "average = 1  # average this number of files\n",
    "x0 = 75.51\n",
    "y0 = 46.0\n",
    "width = 1\n",
    "linear_steps = 9\n",
    "\n",
    "X, Y = np.meshgrid(np.linspace(x0 - width/2, x0 + width/2, linear_steps),\n",
    "                   np.linspace(y0 - width/2, y0 + width/2, linear_steps))\n",
    "XY = np.vstack((X.ravel(), Y.ravel())).T\n",
    "\n",
    "np.savetxt(folder/'coords.txt', XY, fmt='%.3f')"
   ]
  },
  {
   "cell_type": "code",
   "execution_count": null,
   "id": "220c4e81-ce34-4362-895a-62c0d9ae4c75",
   "metadata": {},
   "outputs": [],
   "source": [
    "if not os.path.exists('images'):\n",
    "    os.mkdir('images')"
   ]
  },
  {
   "cell_type": "code",
   "execution_count": null,
   "id": "7fcbbf52-cfab-478a-b019-9c0649eb4698",
   "metadata": {},
   "outputs": [],
   "source": [
    "text_scan = [\"findstages\\n\",\n",
    "             f\"setcwd;{folder}\\n\",\n",
    "             f\"scanpts;DualFDS;{int(exposure*1000):d};{average};X;Y;{folder/'coords.txt'};{folder/'LaueSubmacro.txt'}\",\n",
    "              \" \"] \n",
    "\n",
    "with open('scan.txt', 'w') as f:\n",
    "    f.writelines(text_scan)\n",
    "\n",
    "with open('LaueSubmacro.txt', 'w') as f:\n",
    "    f.write(f\"saveas;DualFDS;{folder/'images'}\\\\laue_$INDEX_$XPOS_$YPOS.tif\\n\")"
   ]
  },
  {
   "cell_type": "code",
   "execution_count": null,
   "id": "0d064ee2-ba30-4742-834b-4ec4fc485cc6",
   "metadata": {},
   "outputs": [],
   "source": []
  }
 ],
 "metadata": {
  "kernelspec": {
   "display_name": "Python 3 (ipykernel)",
   "language": "python",
   "name": "python3"
  },
  "language_info": {
   "codemirror_mode": {
    "name": "ipython",
    "version": 3
   },
   "file_extension": ".py",
   "mimetype": "text/x-python",
   "name": "python",
   "nbconvert_exporter": "python",
   "pygments_lexer": "ipython3",
   "version": "3.12.4"
  }
 },
 "nbformat": 4,
 "nbformat_minor": 5
}
